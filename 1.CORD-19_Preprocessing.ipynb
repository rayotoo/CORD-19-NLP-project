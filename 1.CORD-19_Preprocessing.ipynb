{
 "cells": [
  {
   "cell_type": "markdown",
   "metadata": {},
   "source": [
    "For the CORD-19 dataset\n",
    "Link to dataset and info\n",
    "Download CORD-19 at \n",
    "https://ai2-semanticscholar-cord-19.s3-us-west-2.amazonaws.com/historical_releases.html.\n"
   ]
  },
  {
   "cell_type": "markdown",
   "metadata": {},
   "source": [
    "CORD-19 is a corpus of academic papers about COVID-19 and related coronavirus research. It's curated and maintained by the Semantic Scholar team at the Allen Institute for AI to support text mining and NLP research. Please read our paper for an in-depth description of how it was created:  https://www.aclweb.org/anthology/2020.nlpcovid19-acl.1/\n",
    "\n",
    "The final version of CORD-19 was released on June 2, 2022. Since we launched the dataset on March 13, 2020, we have released an updated version of the dataset almost every week. Starting from around 40K articles in its first version, the dataset has grown to index over 1M papers, and includes full text content for nearly 370K papers. We thank you for your support and feedback throughout this process. For more information, please see this blog post. A list of alternate data resources are provided under Other resources."
   ]
  },
  {
   "cell_type": "code",
   "execution_count": 1,
   "metadata": {
    "tags": []
   },
   "outputs": [
    {
     "name": "stdout",
     "output_type": "stream",
     "text": [
      "Requirement already satisfied: opendatasets in c:\\users\\raymond.otoo\\anaconda3\\lib\\site-packages (0.1.22)\n",
      "Requirement already satisfied: kaggle in c:\\users\\raymond.otoo\\anaconda3\\lib\\site-packages (from opendatasets) (1.5.12)\n",
      "Requirement already satisfied: click in c:\\users\\raymond.otoo\\anaconda3\\lib\\site-packages (from opendatasets) (8.0.4)\n",
      "Requirement already satisfied: tqdm in c:\\users\\raymond.otoo\\anaconda3\\lib\\site-packages (from opendatasets) (4.64.0)\n",
      "Requirement already satisfied: colorama in c:\\users\\raymond.otoo\\anaconda3\\lib\\site-packages (from click->opendatasets) (0.4.4)\n",
      "Requirement already satisfied: six>=1.10 in c:\\users\\raymond.otoo\\anaconda3\\lib\\site-packages (from kaggle->opendatasets) (1.16.0)\n",
      "Requirement already satisfied: python-slugify in c:\\users\\raymond.otoo\\anaconda3\\lib\\site-packages (from kaggle->opendatasets) (5.0.2)\n",
      "Requirement already satisfied: urllib3 in c:\\users\\raymond.otoo\\anaconda3\\lib\\site-packages (from kaggle->opendatasets) (1.26.9)\n",
      "Requirement already satisfied: python-dateutil in c:\\users\\raymond.otoo\\anaconda3\\lib\\site-packages (from kaggle->opendatasets) (2.8.2)\n",
      "Requirement already satisfied: requests in c:\\users\\raymond.otoo\\anaconda3\\lib\\site-packages (from kaggle->opendatasets) (2.27.1)\n",
      "Requirement already satisfied: certifi in c:\\users\\raymond.otoo\\anaconda3\\lib\\site-packages (from kaggle->opendatasets) (2021.10.8)\n",
      "Requirement already satisfied: text-unidecode>=1.3 in c:\\users\\raymond.otoo\\anaconda3\\lib\\site-packages (from python-slugify->kaggle->opendatasets) (1.3)\n",
      "Requirement already satisfied: charset-normalizer~=2.0.0 in c:\\users\\raymond.otoo\\anaconda3\\lib\\site-packages (from requests->kaggle->opendatasets) (2.0.4)\n",
      "Requirement already satisfied: idna<4,>=2.5 in c:\\users\\raymond.otoo\\anaconda3\\lib\\site-packages (from requests->kaggle->opendatasets) (3.3)\n"
     ]
    }
   ],
   "source": [
    "!pip install opendatasets"
   ]
  },
  {
   "cell_type": "code",
   "execution_count": 2,
   "metadata": {},
   "outputs": [],
   "source": [
    "import opendatasets as od"
   ]
  },
  {
   "cell_type": "code",
   "execution_count": 3,
   "metadata": {
    "tags": []
   },
   "outputs": [],
   "source": [
    "#Downloads the CORD-19 dataset\n",
    "#od.download(\"https://www.kaggle.com/datasets/allen-institute-for-ai/CORD-19-research-challenge/download?datasetVersionNumber=111\")"
   ]
  },
  {
   "cell_type": "code",
   "execution_count": 4,
   "metadata": {
    "tags": []
   },
   "outputs": [
    {
     "name": "stdout",
     "output_type": "stream",
     "text": [
      " Volume in drive C is FDA\n",
      " Volume Serial Number is 5214-AA91\n",
      "\n",
      " Directory of C:\\Users\\Raymond.Otoo\\OneDrive - FDA\\Desktop\n",
      "\n",
      "11/16/2022  11:08 AM    <DIR>          .\n",
      "11/16/2022  11:08 AM    <DIR>          ..\n",
      "09/21/2022  08:52 AM    <DIR>          .ipynb_checkpoints\n",
      "11/16/2022  11:08 AM            10,810 1.CORD-19_Preprocessing.ipynb\n",
      "09/29/2022  10:47 AM         2,922,507 2022 Autumn Groups Teams 09272022.pdf\n",
      "11/09/2022  06:30 AM    <DIR>          cord_19\n",
      "11/16/2022  11:11 AM    <DIR>          CORD-19-research-challenge\n",
      "07/24/2022  04:41 PM         1,021,821 Cybersecurity_cert.pdf\n",
      "11/07/2022  07:59 AM         1,609,402 Draft_FDA-NIH Report to RGC_11072022.docx\n",
      "10/05/2022  09:15 AM         1,091,397 FDAdata_Process.ipynb\n",
      "10/26/2022  10:00 AM           819,061 FDA-NIH_WOS_categories_2010-2021.png\n",
      "09/21/2022  08:41 AM        24,033,206 Python-3.7.14.tgz\n",
      "10/19/2022  09:07 AM           550,454 Raymond_FDA_NIH Report to RGC v1.docx\n",
      "10/26/2022  11:44 AM         1,227,112 Raymond_FDA_NIH Report to RGC v2.docx\n",
      "               9 File(s)     33,285,770 bytes\n",
      "               5 Dir(s)  349,471,657,984 bytes free\n"
     ]
    }
   ],
   "source": [
    "ls"
   ]
  },
  {
   "cell_type": "code",
   "execution_count": 5,
   "metadata": {},
   "outputs": [],
   "source": [
    "!cd C:\\Users\\Raymond.Otoo\\OneDrive - FDA\\Desktop\\cord_19"
   ]
  },
  {
   "cell_type": "code",
   "execution_count": 6,
   "metadata": {},
   "outputs": [
    {
     "data": {
      "text/plain": [
       "'C:\\\\Users\\\\Raymond.Otoo\\\\OneDrive - FDA\\\\Desktop'"
      ]
     },
     "execution_count": 6,
     "metadata": {},
     "output_type": "execute_result"
    }
   ],
   "source": [
    "pwd"
   ]
  },
  {
   "cell_type": "code",
   "execution_count": 7,
   "metadata": {},
   "outputs": [
    {
     "name": "stdout",
     "output_type": "stream",
     "text": [
      " Volume in drive C is FDA\n",
      " Volume Serial Number is 5214-AA91\n",
      "\n",
      " Directory of C:\\Users\\Raymond.Otoo\\OneDrive - FDA\\Desktop\n",
      "\n",
      "11/16/2022  11:08 AM    <DIR>          .\n",
      "11/16/2022  11:08 AM    <DIR>          ..\n",
      "09/21/2022  08:52 AM    <DIR>          .ipynb_checkpoints\n",
      "11/16/2022  11:08 AM            10,810 1.CORD-19_Preprocessing.ipynb\n",
      "09/29/2022  10:47 AM         2,922,507 2022 Autumn Groups Teams 09272022.pdf\n",
      "11/09/2022  06:30 AM    <DIR>          cord_19\n",
      "11/16/2022  11:11 AM    <DIR>          CORD-19-research-challenge\n",
      "07/24/2022  04:41 PM         1,021,821 Cybersecurity_cert.pdf\n",
      "11/07/2022  07:59 AM         1,609,402 Draft_FDA-NIH Report to RGC_11072022.docx\n",
      "10/05/2022  09:15 AM         1,091,397 FDAdata_Process.ipynb\n",
      "10/26/2022  10:00 AM           819,061 FDA-NIH_WOS_categories_2010-2021.png\n",
      "09/21/2022  08:41 AM        24,033,206 Python-3.7.14.tgz\n",
      "10/19/2022  09:07 AM           550,454 Raymond_FDA_NIH Report to RGC v1.docx\n",
      "10/26/2022  11:44 AM         1,227,112 Raymond_FDA_NIH Report to RGC v2.docx\n",
      "               9 File(s)     33,285,770 bytes\n",
      "               5 Dir(s)  349,471,657,984 bytes free\n"
     ]
    }
   ],
   "source": [
    "ls"
   ]
  },
  {
   "cell_type": "code",
   "execution_count": 15,
   "metadata": {},
   "outputs": [
    {
     "name": "stderr",
     "output_type": "stream",
     "text": [
      "'unzip' is not recognized as an internal or external command,\n",
      "operable program or batch file.\n"
     ]
    }
   ],
   "source": [
    "!unzip CORD-19-research-challenge.zip"
   ]
  },
  {
   "cell_type": "code",
   "execution_count": 15,
   "metadata": {},
   "outputs": [
    {
     "ename": "FileNotFoundError",
     "evalue": "[Errno 2] No such file or directory: 'metadata.csv'",
     "output_type": "error",
     "traceback": [
      "\u001b[1;31m---------------------------------------------------------------------------\u001b[0m",
      "\u001b[1;31mFileNotFoundError\u001b[0m                         Traceback (most recent call last)",
      "Input \u001b[1;32mIn [15]\u001b[0m, in \u001b[0;36m<cell line: 9>\u001b[1;34m()\u001b[0m\n\u001b[0;32m      6\u001b[0m cord_uid_to_text \u001b[38;5;241m=\u001b[39m defaultdict(\u001b[38;5;28mlist\u001b[39m)\n\u001b[0;32m      8\u001b[0m \u001b[38;5;66;03m# open the file\u001b[39;00m\n\u001b[1;32m----> 9\u001b[0m \u001b[38;5;28;01mwith\u001b[39;00m \u001b[38;5;28;43mopen\u001b[39;49m\u001b[43m(\u001b[49m\u001b[38;5;124;43m'\u001b[39;49m\u001b[38;5;124;43mmetadata.csv\u001b[39;49m\u001b[38;5;124;43m'\u001b[39;49m\u001b[43m)\u001b[49m \u001b[38;5;28;01mas\u001b[39;00m f_in:\n\u001b[0;32m     10\u001b[0m     reader \u001b[38;5;241m=\u001b[39m csv\u001b[38;5;241m.\u001b[39mDictReader(f_in)\n\u001b[0;32m     11\u001b[0m     \u001b[38;5;28;01mfor\u001b[39;00m row \u001b[38;5;129;01min\u001b[39;00m reader:\n\u001b[0;32m     12\u001b[0m \n\u001b[0;32m     13\u001b[0m         \u001b[38;5;66;03m# access some metadata\u001b[39;00m\n",
      "\u001b[1;31mFileNotFoundError\u001b[0m: [Errno 2] No such file or directory: 'metadata.csv'"
     ]
    }
   ],
   "source": [
    "import csv\n",
    "import os\n",
    "import json\n",
    "from collections import defaultdict\n",
    "\n",
    "cord_uid_to_text = defaultdict(list)\n",
    "\n",
    "# open the file\n",
    "with open('metadata.csv') as f_in:\n",
    "    reader = csv.DictReader(f_in)\n",
    "    for row in reader:\n",
    "\n",
    "        # access some metadata\n",
    "        cord_uid = row['cord_uid']\n",
    "        title = row['title']\n",
    "        abstract = row['abstract']\n",
    "        authors = row['authors'].split('; ')\n",
    "\n",
    "        # access the full text (if available) for Intro\n",
    "        introduction = []\n",
    "        if row['pdf_json_files']:\n",
    "            for json_path in row['pdf_json_files'].split('; '):\n",
    "                with open(json_path) as f_json:\n",
    "                    full_text_dict = json.load(f_json)\n",
    "\n",
    "                    # grab introduction section from *some* version of the full text\n",
    "                    for paragraph_dict in full_text_dict['body_text']:\n",
    "                        paragraph_text = paragraph_dict['text']\n",
    "                        section_name = paragraph_dict['section']\n",
    "                        if 'intro' in section_name.lower():\n",
    "                            introduction.append(paragraph_text)\n",
    "\n",
    "                    # stop searching other copies of full text if already got introduction\n",
    "                    if introduction:\n",
    "                        break\n",
    "\n",
    "        # save for later usage\n",
    "        cord_uid_to_text[cord_uid].append({\n",
    "            'title': title,\n",
    "            'abstract': abstract,\n",
    "            'introduction': introduction\n",
    "        })"
   ]
  },
  {
   "cell_type": "code",
   "execution_count": null,
   "metadata": {},
   "outputs": [],
   "source": []
  },
  {
   "cell_type": "code",
   "execution_count": null,
   "metadata": {},
   "outputs": [],
   "source": []
  }
 ],
 "metadata": {
  "kernelspec": {
   "display_name": "Python 3 (ipykernel)",
   "language": "python",
   "name": "python3"
  },
  "language_info": {
   "codemirror_mode": {
    "name": "ipython",
    "version": 3
   },
   "file_extension": ".py",
   "mimetype": "text/x-python",
   "name": "python",
   "nbconvert_exporter": "python",
   "pygments_lexer": "ipython3",
   "version": "3.9.12"
  }
 },
 "nbformat": 4,
 "nbformat_minor": 4
}
